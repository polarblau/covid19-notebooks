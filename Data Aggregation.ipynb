{
 "cells": [
  {
   "cell_type": "code",
   "execution_count": 1,
   "metadata": {},
   "outputs": [],
   "source": [
    "import pandas as pd\n",
    "import datetime\n",
    "\n",
    "from data_helpers import load_data, clean_data, export_data\n",
    "from stats_helpers import growth_factor_for_region, cfr_for_region, lin_reg_for_time_series, new_cases_per_region\n",
    "\n",
    "DATA_BASE_URL = 'https://raw.githubusercontent.com/CSSEGISandData/COVID-19/master/csse_covid_19_data/csse_covid_19_time_series/time_series_covid19_{}_global.csv'"
   ]
  },
  {
   "cell_type": "code",
   "execution_count": 2,
   "metadata": {},
   "outputs": [],
   "source": [
    "raw_data = load_data(DATA_BASE_URL)\n",
    "data = {key: clean_data(df) for key, df in raw_data.items()}"
   ]
  },
  {
   "cell_type": "code",
   "execution_count": 3,
   "metadata": {},
   "outputs": [],
   "source": [
    "def compile_set_for_region(data, region):\n",
    "    return {\n",
    "        'confirmed': data['confirmed'][region],\n",
    "        'new': new_cases_per_region(data, region),\n",
    "        'deaths': data['deaths'][region],\n",
    "        'recovered': data['recovered'][region],\n",
    "        'growth_rate': growth_factor_for_region(data, region),\n",
    "        'cfr': cfr_for_region(data, region),\n",
    "        'cfr_lin_reg': lin_reg_for_time_series(cfr_for_region(data, region, t=7))\n",
    "    }"
   ]
  },
  {
   "cell_type": "code",
   "execution_count": 4,
   "metadata": {},
   "outputs": [],
   "source": [
    "regions = data['confirmed'].T.index\n",
    "out = {region: compile_set_for_region(data, region) for region in regions }"
   ]
  },
  {
   "cell_type": "code",
   "execution_count": 5,
   "metadata": {},
   "outputs": [
    {
     "name": "stdout",
     "output_type": "stream",
     "text": [
      "Exported all aggregated data [ 20200809_covid19_data.json ].\n"
     ]
    }
   ],
   "source": [
    "ts = datetime.date.today().strftime('%Y%m%d')\n",
    "filename = '{}_covid19_data.json'.format(ts)\n",
    "pd.Series(out).to_json(filename, orient='columns')\n",
    "\n",
    "print('Exported all aggregated data [ {} ].'.format(filename))"
   ]
  },
  {
   "cell_type": "code",
   "execution_count": null,
   "metadata": {},
   "outputs": [],
   "source": []
  }
 ],
 "metadata": {
  "kernelspec": {
   "display_name": "Python 3",
   "language": "python",
   "name": "python3"
  },
  "language_info": {
   "codemirror_mode": {
    "name": "ipython",
    "version": 3
   },
   "file_extension": ".py",
   "mimetype": "text/x-python",
   "name": "python",
   "nbconvert_exporter": "python",
   "pygments_lexer": "ipython3",
   "version": "3.7.4"
  }
 },
 "nbformat": 4,
 "nbformat_minor": 2
}
